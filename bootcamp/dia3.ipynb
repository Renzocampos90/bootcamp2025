{
 "cells": [
  {
   "cell_type": "markdown",
   "id": "aaa3d185",
   "metadata": {},
   "source": [
    "Challenge 1\n",
    "Crear una función que imprima la variable palabra"
   ]
  },
  {
   "cell_type": "code",
   "execution_count": 6,
   "id": "7392e5c9",
   "metadata": {},
   "outputs": [
    {
     "name": "stdout",
     "output_type": "stream",
     "text": [
      "hola que tal\n"
     ]
    }
   ],
   "source": [
    "def imprimir_palabra():\n",
    "    palabra = \"hola que tal\"\n",
    "    print(palabra)\n",
    "imprimir_palabra()\n",
    "\n",
    "\n",
    "\n",
    " \n",
    " "
   ]
  },
  {
   "cell_type": "code",
   "execution_count": 8,
   "id": "41694b34",
   "metadata": {},
   "outputs": [
    {
     "name": "stdout",
     "output_type": "stream",
     "text": [
      "3\n"
     ]
    }
   ],
   "source": [
    "def sumar_numeros (numero1, numero2):\n",
    "    suma = numero1 + numero2\n",
    "    print(suma)\n",
    "sumar_numeros(1,2)\n",
    "\n"
   ]
  },
  {
   "cell_type": "markdown",
   "id": "350dbf04",
   "metadata": {},
   "source": [
    "Challenge 2\n",
    "Crear una funcion que reciba dos letras (parametros) y que verifique si son iguales:\n",
    "1 Si son iguales, imprimir \"las letras son iguales\"\n",
    "2 De lo contrario, imprimir \"las letras son diferentes\""
   ]
  },
  {
   "cell_type": "code",
   "execution_count": 15,
   "id": "199818ee",
   "metadata": {},
   "outputs": [
    {
     "name": "stdout",
     "output_type": "stream",
     "text": [
      "Las letras son diferentes\n"
     ]
    }
   ],
   "source": [
    "def parametros(letra1, letra2):\n",
    "\n",
    "    if letra1 == letra2:\n",
    "        print('Las letras son iguales')\n",
    "    else:\n",
    "        print('Las letras son diferentes')\n",
    "        \n",
    "parametros('aa','bb')\n",
    "    \n",
    "\n"
   ]
  },
  {
   "cell_type": "markdown",
   "id": "2d334638",
   "metadata": {},
   "source": []
  },
  {
   "cell_type": "code",
   "execution_count": 19,
   "id": "8c977c82",
   "metadata": {},
   "outputs": [
    {
     "data": {
      "text/plain": [
       "3"
      ]
     },
     "execution_count": 19,
     "metadata": {},
     "output_type": "execute_result"
    }
   ],
   "source": [
    "def sumatoria(numero1, numero2):\n",
    "    sumar = numero1 + numero2\n",
    "    return sumar\n",
    "sumatoria(1,2)\n"
   ]
  },
  {
   "cell_type": "code",
   "execution_count": 25,
   "id": "a6d7e1c6",
   "metadata": {},
   "outputs": [
    {
     "name": "stdout",
     "output_type": "stream",
     "text": [
      "4\n"
     ]
    }
   ],
   "source": [
    "\n",
    "suma1 = sumatoria(1,2)\n",
    "total = suma1 + 1\n",
    "print(total)\n",
    "\n",
    "\n"
   ]
  },
  {
   "cell_type": "markdown",
   "id": "52a4f5f4",
   "metadata": {},
   "source": [
    "Challenge 3\n",
    "Crear una funcion que reciba dos parametros (una palabra y un numero) y en caso que retorne TRUE si el numero es igual a la cantidad de letras de la palabra. En caso contrario, que retorne FALSE\n"
   ]
  },
  {
   "cell_type": "code",
   "execution_count": 36,
   "id": "06a87937",
   "metadata": {},
   "outputs": [
    {
     "data": {
      "text/plain": [
       "True"
      ]
     },
     "execution_count": 36,
     "metadata": {},
     "output_type": "execute_result"
    }
   ],
   "source": [
    "def palabra_y_numero(palabra, numero):\n",
    "    if len(palabra) == numero: \n",
    "       return True\n",
    "    else:\n",
    "        return False\n",
    "    \n",
    "\n",
    "palabra_y_numero('cinco', 5)    \n",
    "\n"
   ]
  },
  {
   "cell_type": "markdown",
   "id": "d8fcafc0",
   "metadata": {},
   "source": [
    "\n"
   ]
  },
  {
   "cell_type": "code",
   "execution_count": null,
   "id": "13c95969",
   "metadata": {},
   "outputs": [
    {
     "name": "stdout",
     "output_type": "stream",
     "text": [
      "['g', 'g', 'g', 'g']\n"
     ]
    }
   ],
   "source": [
    "palabra_a_encontrar = input('')\n",
    "\n",
    "lista_de_letras_de_la_palabra_a_encontrar = list(palabra_a_encontrar)\n",
    "print(lista_de_letras_de_la_palabra_a_encontrar)\n",
    "\n",
    "lista_de_letras_de_la_palabra_igresada = list(palabra_ingresada)\n",
    "print(lista_de_letras_de_la_palabra_igresada)\n"
   ]
  },
  {
   "cell_type": "code",
   "execution_count": 69,
   "id": "e7ec5567",
   "metadata": {},
   "outputs": [
    {
     "name": "stdout",
     "output_type": "stream",
     "text": [
      "[['h', 'f', 'g', 'h', 'f', 'g']]\n",
      "[['h', 'f', 'g', 'h', 'f', 'g'], ['f', 'd', 'h']]\n",
      "[['h', 'f', 'g', 'h', 'f', 'g'], ['f', 'd', 'h'], ['h', 'f', 'h', 'f', 'g', 'h']]\n"
     ]
    }
   ],
   "source": [
    "palabras_ingresadas = []\n",
    "\n",
    "for i in range(3):\n",
    "    palabra = input(\"Ingresa una palabra: \")\n",
    "    \n",
    "    lista_caracteres = list(palabra)\n",
    "    palabras_ingresadas.append(lista_caracteres)\n",
    "    print(palabras_ingresadas)"
   ]
  },
  {
   "cell_type": "code",
   "execution_count": 89,
   "id": "409e1e6c",
   "metadata": {},
   "outputs": [],
   "source": [
    "def obtener_fila_verificada(palabra_a_encontrar,palabra_ingresada):\n",
    "    cantidad_de_letras_de_palabras_a_encontrar = 5\n",
    "    letras_verificas = []\n",
    "    for posicion in range (cantidad_de_letras_de_palabras_a_encontrar):\n",
    "       \n",
    "        las_letras_son_iguales = palabra_a_encontrar[posicion] == palabra_ingresada[posicion]\n",
    "       \n",
    "        la_letra_existe_en_la_palabra = palabra_ingresada[posicion] in palabra_a_encontrar\n",
    "       \n",
    "        if las_letras_son_iguales:\n",
    "          \n",
    "          letras_verificas.append('['+ palabra_ingresada[posicion]+ ']')\n",
    "        \n",
    "        elif la_letra_existe_en_la_palabra:\n",
    "            letras_verificas.append('('+ palabra_ingresada[posicion]+ ')')\n",
    "        else:\n",
    "             letras_verificas.append( palabra_ingresada[posicion])   \n",
    "    return letras_verificas\n",
    "\n",
    "\n",
    "    \n"
   ]
  },
  {
   "cell_type": "code",
   "execution_count": null,
   "id": "16d05a6b",
   "metadata": {},
   "outputs": [
    {
     "name": "stdout",
     "output_type": "stream",
     "text": [
      "bienvenido al juego\n"
     ]
    },
    {
     "ename": "IndexError",
     "evalue": "string index out of range",
     "output_type": "error",
     "traceback": [
      "\u001b[31m---------------------------------------------------------------------------\u001b[39m",
      "\u001b[31mIndexError\u001b[39m                                Traceback (most recent call last)",
      "\u001b[36mCell\u001b[39m\u001b[36m \u001b[39m\u001b[32mIn[100]\u001b[39m\u001b[32m, line 5\u001b[39m\n\u001b[32m      2\u001b[39m \u001b[38;5;28mprint\u001b[39m(\u001b[33m\"\u001b[39m\u001b[33mbienvenido al juego\u001b[39m\u001b[33m\"\u001b[39m)\n\u001b[32m      3\u001b[39m palabra_ingresada = \u001b[38;5;28minput\u001b[39m(\u001b[33m\"\u001b[39m\u001b[33mingrese una palabra de 5 letras\u001b[39m\u001b[33m\"\u001b[39m)\n\u001b[32m----> \u001b[39m\u001b[32m5\u001b[39m linea_verificada = \u001b[43mobtener_fila_verificada\u001b[49m\u001b[43m(\u001b[49m\u001b[43mpalabra_a_encontrar\u001b[49m\u001b[43m,\u001b[49m\u001b[43mpalabra_ingresada\u001b[49m\u001b[43m)\u001b[49m\n\u001b[32m      7\u001b[39m \u001b[38;5;28mprint\u001b[39m(linea_verificada)\n",
      "\u001b[36mCell\u001b[39m\u001b[36m \u001b[39m\u001b[32mIn[89]\u001b[39m\u001b[32m, line 6\u001b[39m, in \u001b[36mobtener_fila_verificada\u001b[39m\u001b[34m(palabra_a_encontrar, palabra_ingresada)\u001b[39m\n\u001b[32m      3\u001b[39m letras_verificas = []\n\u001b[32m      4\u001b[39m \u001b[38;5;28;01mfor\u001b[39;00m posicion \u001b[38;5;129;01min\u001b[39;00m \u001b[38;5;28mrange\u001b[39m (cantidad_de_letras_de_palabras_a_encontrar):\n\u001b[32m----> \u001b[39m\u001b[32m6\u001b[39m     las_letras_son_iguales = palabra_a_encontrar[posicion] == \u001b[43mpalabra_ingresada\u001b[49m\u001b[43m[\u001b[49m\u001b[43mposicion\u001b[49m\u001b[43m]\u001b[49m\n\u001b[32m      8\u001b[39m     la_letra_existe_en_la_palabra = palabra_ingresada[posicion] \u001b[38;5;129;01min\u001b[39;00m palabra_a_encontrar\n\u001b[32m     10\u001b[39m     \u001b[38;5;28;01mif\u001b[39;00m las_letras_son_iguales:\n",
      "\u001b[31mIndexError\u001b[39m: string index out of range"
     ]
    },
    {
     "ename": "KeyboardInterrupt",
     "evalue": "Interrupted by user",
     "output_type": "error",
     "traceback": [
      "\u001b[31m---------------------------------------------------------------------------\u001b[39m",
      "\u001b[31mKeyboardInterrupt\u001b[39m                         Traceback (most recent call last)",
      "\u001b[36mCell\u001b[39m\u001b[36m \u001b[39m\u001b[32mIn[103]\u001b[39m\u001b[32m, line 3\u001b[39m\n\u001b[32m      1\u001b[39m palabra_a_encontrar = \u001b[33m'\u001b[39m\u001b[33mhuevo\u001b[39m\u001b[33m'\u001b[39m\n\u001b[32m----> \u001b[39m\u001b[32m3\u001b[39m palabra_ingresada = \u001b[38;5;28;43minput\u001b[39;49m\u001b[43m(\u001b[49m\u001b[33;43m\"\u001b[39;49m\u001b[33;43mingrese una palabra de 5 letras\u001b[39;49m\u001b[33;43m\"\u001b[39;49m\u001b[43m)\u001b[49m\n\u001b[32m      5\u001b[39m linea_verificada = obtener_fila_verificada(palabra_a_encontrar,palabra_ingresada)\n\u001b[32m      7\u001b[39m \u001b[38;5;28mprint\u001b[39m(linea_verificada)\n",
      "\u001b[36mFile \u001b[39m\u001b[32mc:\\Users\\rcpm9\\Desktop\\bootcamp\\.venv\\Lib\\site-packages\\ipykernel\\kernelbase.py:1282\u001b[39m, in \u001b[36mKernel.raw_input\u001b[39m\u001b[34m(self, prompt)\u001b[39m\n\u001b[32m   1280\u001b[39m     msg = \u001b[33m\"\u001b[39m\u001b[33mraw_input was called, but this frontend does not support input requests.\u001b[39m\u001b[33m\"\u001b[39m\n\u001b[32m   1281\u001b[39m     \u001b[38;5;28;01mraise\u001b[39;00m StdinNotImplementedError(msg)\n\u001b[32m-> \u001b[39m\u001b[32m1282\u001b[39m \u001b[38;5;28;01mreturn\u001b[39;00m \u001b[38;5;28;43mself\u001b[39;49m\u001b[43m.\u001b[49m\u001b[43m_input_request\u001b[49m\u001b[43m(\u001b[49m\n\u001b[32m   1283\u001b[39m \u001b[43m    \u001b[49m\u001b[38;5;28;43mstr\u001b[39;49m\u001b[43m(\u001b[49m\u001b[43mprompt\u001b[49m\u001b[43m)\u001b[49m\u001b[43m,\u001b[49m\n\u001b[32m   1284\u001b[39m \u001b[43m    \u001b[49m\u001b[38;5;28;43mself\u001b[39;49m\u001b[43m.\u001b[49m\u001b[43m_parent_ident\u001b[49m\u001b[43m[\u001b[49m\u001b[33;43m\"\u001b[39;49m\u001b[33;43mshell\u001b[39;49m\u001b[33;43m\"\u001b[39;49m\u001b[43m]\u001b[49m\u001b[43m,\u001b[49m\n\u001b[32m   1285\u001b[39m \u001b[43m    \u001b[49m\u001b[38;5;28;43mself\u001b[39;49m\u001b[43m.\u001b[49m\u001b[43mget_parent\u001b[49m\u001b[43m(\u001b[49m\u001b[33;43m\"\u001b[39;49m\u001b[33;43mshell\u001b[39;49m\u001b[33;43m\"\u001b[39;49m\u001b[43m)\u001b[49m\u001b[43m,\u001b[49m\n\u001b[32m   1286\u001b[39m \u001b[43m    \u001b[49m\u001b[43mpassword\u001b[49m\u001b[43m=\u001b[49m\u001b[38;5;28;43;01mFalse\u001b[39;49;00m\u001b[43m,\u001b[49m\n\u001b[32m   1287\u001b[39m \u001b[43m\u001b[49m\u001b[43m)\u001b[49m\n",
      "\u001b[36mFile \u001b[39m\u001b[32mc:\\Users\\rcpm9\\Desktop\\bootcamp\\.venv\\Lib\\site-packages\\ipykernel\\kernelbase.py:1325\u001b[39m, in \u001b[36mKernel._input_request\u001b[39m\u001b[34m(self, prompt, ident, parent, password)\u001b[39m\n\u001b[32m   1322\u001b[39m \u001b[38;5;28;01mexcept\u001b[39;00m \u001b[38;5;167;01mKeyboardInterrupt\u001b[39;00m:\n\u001b[32m   1323\u001b[39m     \u001b[38;5;66;03m# re-raise KeyboardInterrupt, to truncate traceback\u001b[39;00m\n\u001b[32m   1324\u001b[39m     msg = \u001b[33m\"\u001b[39m\u001b[33mInterrupted by user\u001b[39m\u001b[33m\"\u001b[39m\n\u001b[32m-> \u001b[39m\u001b[32m1325\u001b[39m     \u001b[38;5;28;01mraise\u001b[39;00m \u001b[38;5;167;01mKeyboardInterrupt\u001b[39;00m(msg) \u001b[38;5;28;01mfrom\u001b[39;00m\u001b[38;5;250m \u001b[39m\u001b[38;5;28;01mNone\u001b[39;00m\n\u001b[32m   1326\u001b[39m \u001b[38;5;28;01mexcept\u001b[39;00m \u001b[38;5;167;01mException\u001b[39;00m:\n\u001b[32m   1327\u001b[39m     \u001b[38;5;28mself\u001b[39m.log.warning(\u001b[33m\"\u001b[39m\u001b[33mInvalid Message:\u001b[39m\u001b[33m\"\u001b[39m, exc_info=\u001b[38;5;28;01mTrue\u001b[39;00m)\n",
      "\u001b[31mKeyboardInterrupt\u001b[39m: Interrupted by user"
     ]
    }
   ],
   "source": [
    "palabra_a_encontrar = 'huevo'\n",
    "\n",
    "palabra_ingresada = input(\"ingrese una palabra de 5 letras\")\n",
    "\n",
    "linea_verificada = obtener_fila_verificada(palabra_a_encontrar,palabra_ingresada)\n",
    "\n",
    "print(linea_verificada)\n"
   ]
  },
  {
   "cell_type": "code",
   "execution_count": 81,
   "id": "bd56c9bd",
   "metadata": {},
   "outputs": [
    {
     "name": "stdout",
     "output_type": "stream",
     "text": [
      "['h', 'o', 'l', 'i', 's']\n",
      "['h', 'e', 'l', 'l', 'o']\n",
      "['h', 'a', 'l', 'l', 'o']\n"
     ]
    }
   ],
   "source": [
    "lista = [['h', 'o', 'l', 'i', 's'], ['h', 'e', 'l', 'l', 'o'], ['h', 'a', 'l', 'l', 'o']]\n",
    "def imprimir_lista (lista):\n",
    "    print(lista[0])\n",
    "    print(lista[1])\n",
    "    print(lista[2])\n",
    "imprimir_lista(lista)"
   ]
  },
  {
   "cell_type": "code",
   "execution_count": null,
   "id": "e86a2c69",
   "metadata": {},
   "outputs": [
    {
     "name": "stdout",
     "output_type": "stream",
     "text": [
      "ganaste campeon\n",
      "te quedan 3 intentos\n",
      "te quedan 2 intentos\n",
      "te quedan 1 intentos\n",
      "te quedaste sin intentos\n"
     ]
    }
   ],
   "source": [
    "intentos = 3\n",
    "while intentos > 0:\n",
    "    print(f'te quedan {intentos} intentos')\n",
    "    palabra = input(\"Ingrese la palabra\")\n",
    "    intentos = intentos - 1\n",
    "print(\"te quedaste sin intentos\")\n",
    "  \n",
    "\n",
    "\n",
    "\n",
    "\n",
    "\n",
    "\n"
   ]
  },
  {
   "cell_type": "code",
   "execution_count": 113,
   "id": "4493d003",
   "metadata": {},
   "outputs": [
    {
     "name": "stdout",
     "output_type": "stream",
     "text": [
      "Bienvenido al juego\n",
      "Te quedan 3 intentos\n",
      "Resultado: ['[c]', '[i]', '[n]', '[c]', '[o]']\n",
      "Te quedan 2 intentos\n",
      "Resultado: ['a', 'b', '(c)', 'd', 'e']\n",
      "Te quedan 1 intentos\n",
      "[c][i][n][c][o]\n",
      "Adivinaste la palabra\n"
     ]
    }
   ],
   "source": [
    "def obteniendo_palabra(palabra_a_encontrar, palabra_ingresada):\n",
    "    cantidad_de_letras = 5\n",
    "    letras_verificadas = []\n",
    "    for posicion in range(cantidad_de_letras):\n",
    "        las_letras_son_iguales = palabra_a_encontrar[posicion] == palabra_ingresada[posicion]\n",
    "        la_letra_existe_en_la_palabra = palabra_ingresada[posicion] in palabra_a_encontrar\n",
    "\n",
    "        if las_letras_son_iguales:\n",
    "            letras_verificadas.append(\"[\" + palabra_ingresada[posicion] + \"]\")\n",
    "        elif la_letra_existe_en_la_palabra:\n",
    "            letras_verificadas.append(\"(\" + palabra_ingresada[posicion] + \")\")\n",
    "        else:\n",
    "            letras_verificadas.append(palabra_ingresada[posicion])\n",
    "    return letras_verificadas\n",
    "\n",
    "palabra_a_encontrar = \"cinco\"\n",
    "print(\"Bienvenido al juego\")\n",
    "intentos = 3\n",
    "\n",
    "while intentos > 0:\n",
    "    print(f\"Te quedan {intentos} intentos\")\n",
    "    palabra = input(\"Ingrese una palabra de 5 letras: \")\n",
    "\n",
    "    if palabra == palabra_a_encontrar:\n",
    "        print(\"[\"+\"][\".join(palabra)+\"]\")\n",
    "        print(\"Adivinaste la palabra\")\n",
    "        break\n",
    "\n",
    "    resultado = obteniendo_palabra(palabra_a_encontrar, palabra)\n",
    "    print(\"Resultado:\", resultado)\n",
    "\n",
    "    intentos = intentos -1\n",
    "\n",
    "if intentos == 0:\n",
    "    print(\"Te quedaste sin intentos.\")\n",
    "    print(f\"La palabra correcta era: {palabra_a_encontrar}\")"
   ]
  }
 ],
 "metadata": {
  "kernelspec": {
   "display_name": ".venv",
   "language": "python",
   "name": "python3"
  },
  "language_info": {
   "codemirror_mode": {
    "name": "ipython",
    "version": 3
   },
   "file_extension": ".py",
   "mimetype": "text/x-python",
   "name": "python",
   "nbconvert_exporter": "python",
   "pygments_lexer": "ipython3",
   "version": "3.13.3"
  }
 },
 "nbformat": 4,
 "nbformat_minor": 5
}
