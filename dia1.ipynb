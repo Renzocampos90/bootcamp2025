{
 "cells": [
  {
   "cell_type": "code",
   "execution_count": 1,
   "id": "a164c4d6",
   "metadata": {},
   "outputs": [
    {
     "name": "stdout",
     "output_type": "stream",
     "text": [
      "hola mundo\n"
     ]
    }
   ],
   "source": [
    "print(\"hola mundo\")"
   ]
  },
  {
   "cell_type": "code",
   "execution_count": 9,
   "id": "276ac3cc",
   "metadata": {},
   "outputs": [
    {
     "name": "stdout",
     "output_type": "stream",
     "text": [
      "abrir el pan\n",
      "agregar jamon\n",
      "agregar queso\n",
      "cerrar pan\n",
      "listo!\n"
     ]
    }
   ],
   "source": [
    "def preparar_sandwich ():  \n",
    "    print(\"abrir el pan\")\n",
    "    print(\"agregar jamon\")\n",
    "    print(\"agregar queso\")\n",
    "    print(\"cerrar pan\")\n",
    "    print(\"listo!\")\n",
    "\n",
    "preparar_sandwich()\n"
   ]
  },
  {
   "cell_type": "code",
   "execution_count": null,
   "id": "f876c1e5",
   "metadata": {},
   "outputs": [
    {
     "name": "stdout",
     "output_type": "stream",
     "text": [
      "ir a la concesionaria\n",
      "comparar los precios\n",
      "elegir la marca\n",
      "elegir el modelo\n",
      "elegir el color\n"
     ]
    }
   ],
   "source": [
    "def comprar_auto():\n",
    "    print(\"ir a la concesionaria\")\n",
    "    print(\"comparar los precios\")\n",
    "    print(\"elegir la marca\")\n",
    "    print(\"elegir el modelo\")\n",
    "    print(\"elegir el color\")\n",
    "    \n",
    "\n",
    "\n",
    "comprar_auto()\n"
   ]
  },
  {
   "cell_type": "code",
   "execution_count": 13,
   "id": "6638137e",
   "metadata": {},
   "outputs": [
    {
     "name": "stdout",
     "output_type": "stream",
     "text": [
      "ir a la concesionaria\n",
      "comparar los precios\n",
      "las caracteristicas del auto son toyota, land cruiser, negro\n",
      "comprar el auto\n",
      "salir de la concesionaria\n"
     ]
    }
   ],
   "source": [
    "def comprar_auto(caracteristicas):\n",
    "    print(\"ir a la concesionaria\")\n",
    "    print(\"comparar los precios\")\n",
    "    print(f\"las caracteristicas del auto son {caracteristicas}\")\n",
    "    print(\"comprar el auto\")\n",
    "    print(\"salir de la concesionaria\")\n",
    "\n",
    "comprar_auto(\"toyota, land cruiser, negro\")\n",
    "\n"
   ]
  },
  {
   "cell_type": "code",
   "execution_count": null,
   "id": "16c45024",
   "metadata": {},
   "outputs": [],
   "source": []
  }
 ],
 "metadata": {
  "kernelspec": {
   "display_name": ".venv",
   "language": "python",
   "name": "python3"
  },
  "language_info": {
   "codemirror_mode": {
    "name": "ipython",
    "version": 3
   },
   "file_extension": ".py",
   "mimetype": "text/x-python",
   "name": "python",
   "nbconvert_exporter": "python",
   "pygments_lexer": "ipython3",
   "version": "3.13.3"
  }
 },
 "nbformat": 4,
 "nbformat_minor": 5
}
